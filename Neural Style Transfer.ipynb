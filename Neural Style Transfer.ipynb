{
 "cells": [
  {
   "cell_type": "markdown",
   "metadata": {},
   "source": [
    "### Neural Style Transfer"
   ]
  },
  {
   "cell_type": "code",
   "execution_count": 1,
   "metadata": {},
   "outputs": [
    {
     "name": "stderr",
     "output_type": "stream",
     "text": [
      "Using TensorFlow backend.\n"
     ]
    }
   ],
   "source": [
    "from keras.preprocessing.image import load_img , img_to_array"
   ]
  },
  {
   "cell_type": "code",
   "execution_count": 2,
   "metadata": {},
   "outputs": [],
   "source": [
    "target_path = 'Photo 2.jpg'\n",
    "style_path = 'Style2.jpg'\n",
    "\n",
    "width , height = load_img(target_path).size\n",
    "img_height = 800\n",
    "img_width = int(width * img_height / height)"
   ]
  },
  {
   "cell_type": "code",
   "execution_count": 3,
   "metadata": {},
   "outputs": [
    {
     "data": {
      "text/plain": [
       "800"
      ]
     },
     "execution_count": 3,
     "metadata": {},
     "output_type": "execute_result"
    }
   ],
   "source": [
    "img_width"
   ]
  },
  {
   "cell_type": "code",
   "execution_count": 4,
   "metadata": {},
   "outputs": [],
   "source": [
    "from keras.applications import vgg16\n",
    "import numpy as np"
   ]
  },
  {
   "cell_type": "code",
   "execution_count": 5,
   "metadata": {},
   "outputs": [],
   "source": [
    "def preprocess_image(img_path):\n",
    "    img = load_img(img_path , target_size=(img_height , img_width))\n",
    "    img = img_to_array(img)\n",
    "    img = np.expand_dims(img , axis = 0)\n",
    "    img = vgg16.preprocess_input(img)\n",
    "    return img\n",
    "\n",
    "def deprocess_img(img):\n",
    "    # remove zero center pixel\n",
    "    img[:,:,0] += 103.939 \n",
    "    img[:,:,1] += 116.779\n",
    "    img[:,:,2] += 123.68\n",
    "\n",
    "    # BGR to RGB\n",
    "    img = img[: ,:, ::-1]\n",
    "    img = np.clip(img , 0 ,255).astype('uint8')\n",
    "    return img"
   ]
  },
  {
   "cell_type": "markdown",
   "metadata": {},
   "source": [
    "### Loss Funcitons"
   ]
  },
  {
   "cell_type": "markdown",
   "metadata": {},
   "source": [
    "Content Loss <br>\n",
    "Style Loss <br>\n",
    "Gram matrix <br>\n",
    "total Variation Loss <br>"
   ]
  },
  {
   "cell_type": "code",
   "execution_count": 6,
   "metadata": {},
   "outputs": [],
   "source": [
    "import keras.backend as K"
   ]
  },
  {
   "cell_type": "code",
   "execution_count": 7,
   "metadata": {},
   "outputs": [],
   "source": [
    "def content_loss(base , combination):\n",
    "    return K.sum(K.square(combination - base))\n",
    "\n",
    "def gram_matirx(x):\n",
    "    features = K.batch_flatten(K.permute_dimensions(x , (2,0,1)))\n",
    "    gram = K.dot(features , K.transpose(features))\n",
    "    return gram\n",
    "\n",
    "def style_loss(style , combination):\n",
    "    S = gram_matirx(style)\n",
    "    C = gram_matirx(combination)\n",
    "    channels = 3\n",
    "    size = img_width * img_height\n",
    "    return K.sum(K.square(S - C)) / (4.*(channels**2)*(size**2))\n",
    "\n",
    "def total_variation_loss(x):\n",
    "    a = K.square(\n",
    "        x[: , :img_height-1, :img_width-1 ,:] -\n",
    "        x[: , 1: , :img_width-1 , :]  )\n",
    "    \n",
    "    b = K.square(\n",
    "        x[: , :img_height-1, :img_width-1 ,:] - \n",
    "        x[: , img_height - 1: , 1: , :]       )\n",
    "    \n",
    "    return K.sum(K.pow(a + b , 1.25))"
   ]
  },
  {
   "cell_type": "markdown",
   "metadata": {},
   "source": [
    "### Load Model"
   ]
  },
  {
   "cell_type": "code",
   "execution_count": 8,
   "metadata": {},
   "outputs": [],
   "source": [
    "target_img = K.constant(preprocess_image(target_path))\n",
    "style_image = K.constant(preprocess_image(style_path))"
   ]
  },
  {
   "cell_type": "code",
   "execution_count": 9,
   "metadata": {},
   "outputs": [],
   "source": [
    "combinaiton_image = K.placeholder((1,img_height , img_width , 3))"
   ]
  },
  {
   "cell_type": "code",
   "execution_count": 10,
   "metadata": {},
   "outputs": [],
   "source": [
    "input_tensor = K.concatenate([target_img , style_image , combinaiton_image] , axis = 0)"
   ]
  },
  {
   "cell_type": "code",
   "execution_count": 11,
   "metadata": {},
   "outputs": [
    {
     "name": "stdout",
     "output_type": "stream",
     "text": [
      "Model loaded\n"
     ]
    }
   ],
   "source": [
    "model = vgg16.VGG16(input_tensor = input_tensor , weights = 'imagenet', include_top = False)\n",
    "print('Model loaded')"
   ]
  },
  {
   "cell_type": "markdown",
   "metadata": {},
   "source": [
    "### Final loss minimizing"
   ]
  },
  {
   "cell_type": "code",
   "execution_count": 12,
   "metadata": {},
   "outputs": [],
   "source": [
    "output_dict = dict([(layer.name , layer.output) for layer in model.layers])"
   ]
  },
  {
   "cell_type": "code",
   "execution_count": 13,
   "metadata": {},
   "outputs": [],
   "source": [
    "content_layer = 'block5_conv2'\n",
    "\n",
    "style_layer = ['block1_conv1',\n",
    "               'block2_conv1',\n",
    "               'block3_conv1',\n",
    "               'block4_conv1',\n",
    "               'block5_conv1']"
   ]
  },
  {
   "cell_type": "code",
   "execution_count": 14,
   "metadata": {},
   "outputs": [],
   "source": [
    "total_variation_weight = 1e-4\n",
    "content_weight = 0.025\n",
    "style_weight = 1."
   ]
  },
  {
   "cell_type": "code",
   "execution_count": 15,
   "metadata": {},
   "outputs": [],
   "source": [
    "loss = K.variable(0)\n",
    "layer_features = output_dict[content_layer]\n",
    "\n",
    "target_image_features = layer_features[0 ,: ,: ,:]\n",
    "combination_image_features = layer_features[2 , : ,: ,:]\n",
    "loss = loss + content_weight*content_loss(target_image_features , combination_image_features)"
   ]
  },
  {
   "cell_type": "code",
   "execution_count": 16,
   "metadata": {},
   "outputs": [],
   "source": [
    "for layer_name in style_layer:\n",
    "    layer_features = output_dict[layer_name]\n",
    "    style_reference_features = layer_features[1 , : , : , :]\n",
    "    combinational_features = layer_features[2, : , : ,:]\n",
    "    sl = style_loss(style_reference_features , combinational_features)\n",
    "    loss = loss + ((style_weight/len(style_layer))*sl)\n",
    "\n",
    "loss = loss + total_variation_weight*total_variation_loss(combinaiton_image)"
   ]
  },
  {
   "cell_type": "markdown",
   "metadata": {},
   "source": [
    "### Compute gradients"
   ]
  },
  {
   "cell_type": "code",
   "execution_count": 17,
   "metadata": {},
   "outputs": [],
   "source": [
    "# compute gradients of generated image wrt loss\n",
    "grads = K.gradients(loss , combinaiton_image)[0]"
   ]
  },
  {
   "cell_type": "code",
   "execution_count": 18,
   "metadata": {},
   "outputs": [],
   "source": [
    "# function that fetch current loss and gradients\n",
    "fetch_loss_and_grads = K.function([combinaiton_image],[loss, grads])"
   ]
  },
  {
   "cell_type": "code",
   "execution_count": 19,
   "metadata": {},
   "outputs": [],
   "source": [
    "class Evaluator(object):\n",
    "    \n",
    "    def __init__(self):\n",
    "        self.loss_value = None\n",
    "        self.grads_values = None\n",
    "    \n",
    "    def loss(self, x):\n",
    "        assert self.loss_value is None\n",
    "        x = x.reshape((1, img_height, img_width, 3))\n",
    "        outs = fetch_loss_and_grads([x])\n",
    "    \n",
    "        loss_value = outs[0]\n",
    "        grad_values = outs[1].flatten().astype('float64')\n",
    "        self.loss_value = loss_value\n",
    "        self.grad_values = grad_values\n",
    "        return self.loss_value\n",
    "    \n",
    "    def grads(self, x):\n",
    "        assert self.loss_value is not None\n",
    "        grad_values = np.copy(self.grad_values)\n",
    "        self.loss_value = None\n",
    "        self.grad_values = None\n",
    "        return grad_values\n"
   ]
  },
  {
   "cell_type": "code",
   "execution_count": 20,
   "metadata": {},
   "outputs": [],
   "source": [
    "evaluator = Evaluator()"
   ]
  },
  {
   "cell_type": "code",
   "execution_count": 21,
   "metadata": {},
   "outputs": [],
   "source": [
    "from scipy.optimize import fmin_l_bfgs_b\n",
    "import imageio\n",
    "import time"
   ]
  },
  {
   "cell_type": "code",
   "execution_count": 22,
   "metadata": {},
   "outputs": [],
   "source": [
    "iterations = 20\n",
    "x = preprocess_image(target_path)\n",
    "x= x.flatten()"
   ]
  },
  {
   "cell_type": "code",
   "execution_count": 23,
   "metadata": {},
   "outputs": [],
   "source": [
    "import matplotlib.image as image"
   ]
  },
  {
   "cell_type": "code",
   "execution_count": null,
   "metadata": {},
   "outputs": [
    {
     "name": "stdout",
     "output_type": "stream",
     "text": [
      "start of iterations  0\n",
      "Current loss value : 682962300.0\n",
      "image saved as  New_image_at_iteration_0.png\n",
      "Iteration 0 completed in 534\n",
      "start of iterations  1\n",
      "Current loss value : 202333040.0\n",
      "image saved as  New_image_at_iteration_1.png\n",
      "Iteration 1 completed in 474\n",
      "start of iterations  2\n",
      "Current loss value : 106512400.0\n",
      "image saved as  New_image_at_iteration_2.png\n",
      "Iteration 2 completed in 427\n",
      "start of iterations  3\n",
      "Current loss value : 66409130.0\n",
      "image saved as  New_image_at_iteration_3.png\n",
      "Iteration 3 completed in 424\n",
      "start of iterations  4\n"
     ]
    }
   ],
   "source": [
    "for i in range(iterations):\n",
    "    print('start of iterations ' , i)\n",
    "    start_time = time.time()\n",
    "    x , min_val , info = fmin_l_bfgs_b(evaluator.loss , x , fprime = evaluator.grads , maxfun = 20)\n",
    "    \n",
    "    print('Current loss value :' , min_val)\n",
    "    img = x.copy().reshape((img_height , img_width , 3))\n",
    "    img = deprocess_img(img)\n",
    "    fname = 'New_image_at_iteration_%d.png'%i\n",
    "    image.imsave(fname , img)\n",
    "    print('image saved as ',fname)\n",
    "    end_time = time.time()\n",
    "    print('Iteration %d completed in %d'%( i ,end_time - start_time))"
   ]
  },
  {
   "cell_type": "code",
   "execution_count": null,
   "metadata": {},
   "outputs": [],
   "source": []
  }
 ],
 "metadata": {
  "kernelspec": {
   "display_name": "Python 3",
   "language": "python",
   "name": "python3"
  },
  "language_info": {
   "codemirror_mode": {
    "name": "ipython",
    "version": 3
   },
   "file_extension": ".py",
   "mimetype": "text/x-python",
   "name": "python",
   "nbconvert_exporter": "python",
   "pygments_lexer": "ipython3",
   "version": "3.7.4"
  }
 },
 "nbformat": 4,
 "nbformat_minor": 4
}
